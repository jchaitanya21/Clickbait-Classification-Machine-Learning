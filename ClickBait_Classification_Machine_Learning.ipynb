{
 "cells": [
  {
   "cell_type": "markdown",
   "metadata": {
    "id": "csD7fCdC9OTz"
   },
   "source": [
    "## Clickbait Classification using Machine Learning\n",
    "\n",
    "Clickbait: The content whose main purpose to attract attention and encourage visitors to click on a link to particular web page.\n",
    "\n",
    "Cover Points:\n",
    "1. The problem is binary classification wheather the text data is clickbait or not\n",
    "2. The clickbait composed of 32000 records with 50:50 rate of both class of data.\n",
    "3. In this dataset 1 represent its clickbait and 0 represent its not clickbait\n",
    "\n",
    "Dataset Link: https://www.kaggle.com/amananandrai/clickbait-dataset\n",
    "\n",
    "Procedure:\n",
    "1. Data is uploaded on Google Drive.\n",
    "2. Data is viewed in dataframe using pandas dataframe.\n",
    "3. Data Preprocessing: Data processing is important in terms of textual data or unstructured data. Data Preprocessing or Cleaning is process of remmoving unneccessary symbols, articles from text to make it easy for machine learning model make better predicitions.\n",
    "4. The stopwords, digits, nonalphanumerics, data fall under noise for Machine Learning estimators\n",
    "5. Tokenization\n",
    "6. Stemming \n",
    "7. Lemmatization\n",
    "8. Stopwords are removed\n",
    "9. Tokens are converted into vectors via Tfidf over Count Vectorizer\n",
    "10. Model is trained on Data after its lemmatized and stop words are removed.\n",
    "11. 4 Machine Learning Estimators/ Models are used \n",
    "\n",
    "  a. Logistic Regression\n",
    "  b. Random Forest Classifier\n",
    "  c. Support Vector Machine\n",
    "  d. Navie Bayes\n",
    "\n",
    "12. Evaluation Metrics used.\n",
    "\n",
    "  a. Accurracy Score\n",
    "  b. Classification Report \n",
    "  c. Confusion Matrix\n",
    "\n",
    "13. Accuracy is markdown at the end of notebook.\n"
   ]
  },
  {
   "cell_type": "code",
   "execution_count": null,
   "metadata": {
    "colab": {
     "base_uri": "https://localhost:8080/"
    },
    "id": "v_R_FjgcAJm8",
    "outputId": "4edb1a74-2419-45f1-d81d-c6d6f57e17f4"
   },
   "outputs": [
    {
     "name": "stdout",
     "output_type": "stream",
     "text": [
      "Mounted at /content/drive\n"
     ]
    }
   ],
   "source": [
    "from google.colab import drive\n",
    "drive.mount('/content/drive')"
   ]
  },
  {
   "cell_type": "code",
   "execution_count": null,
   "metadata": {
    "id": "HdSinyaSrYgW"
   },
   "outputs": [],
   "source": [
    "# Library for View Images in Google Colab\n",
    "from IPython.display import Image\n",
    "#Library for Data Preprocessing Analysing Visualizing\n",
    "import pandas as pd\n",
    "import numpy as np\n",
    "import matplotlib.pyplot as plt\n",
    "%matplotlib inline\n",
    "import seaborn as sns\n",
    "#Library for Text Data Preprocessing \n",
    "import nltk\n",
    "import re\n",
    "import string\n",
    "# Library for Splitting Data into Training and Testing\n",
    "from sklearn.model_selection import train_test_split\n",
    "# Library for converting text into vectors\n",
    "from sklearn.feature_extraction.text import TfidfVectorizer\n",
    "# Library for Machine Learning Models/ Estimators\n",
    "# Logisitic Regression\n",
    "from sklearn.linear_model import LogisticRegression\n",
    "# Support Vector Machine\n",
    "from sklearn import svm\n",
    "# Naive Bayes\n",
    "from sklearn.naive_bayes import MultinomialNB\n",
    "# Random Forest Classifier\n",
    "from sklearn.ensemble import RandomForestClassifier\n",
    "# Library for Machine Learning Models/ Estimators Evaluation Pattern\n",
    "from sklearn.metrics import classification_report, confusion_matrix"
   ]
  },
  {
   "cell_type": "code",
   "execution_count": null,
   "metadata": {
    "id": "9c454aQrsK9P"
   },
   "outputs": [],
   "source": [
    "data = pd.read_csv(\"/content/drive/My Drive/Colab Notebooks/clickbait_data.csv\")"
   ]
  },
  {
   "cell_type": "code",
   "execution_count": null,
   "metadata": {
    "colab": {
     "base_uri": "https://localhost:8080/",
     "height": 195
    },
    "id": "zht-3N_XsXgH",
    "outputId": "001c7bd2-6775-4d9c-e326-1eec8f75b2ca"
   },
   "outputs": [
    {
     "data": {
      "text/html": [
       "<div>\n",
       "<style scoped>\n",
       "    .dataframe tbody tr th:only-of-type {\n",
       "        vertical-align: middle;\n",
       "    }\n",
       "\n",
       "    .dataframe tbody tr th {\n",
       "        vertical-align: top;\n",
       "    }\n",
       "\n",
       "    .dataframe thead th {\n",
       "        text-align: right;\n",
       "    }\n",
       "</style>\n",
       "<table border=\"1\" class=\"dataframe\">\n",
       "  <thead>\n",
       "    <tr style=\"text-align: right;\">\n",
       "      <th></th>\n",
       "      <th>headline</th>\n",
       "      <th>clickbait</th>\n",
       "    </tr>\n",
       "  </thead>\n",
       "  <tbody>\n",
       "    <tr>\n",
       "      <th>0</th>\n",
       "      <td>Should I Get Bings</td>\n",
       "      <td>1</td>\n",
       "    </tr>\n",
       "    <tr>\n",
       "      <th>1</th>\n",
       "      <td>Which TV Female Friend Group Do You Belong In</td>\n",
       "      <td>1</td>\n",
       "    </tr>\n",
       "    <tr>\n",
       "      <th>2</th>\n",
       "      <td>The New \"Star Wars: The Force Awakens\" Trailer...</td>\n",
       "      <td>1</td>\n",
       "    </tr>\n",
       "    <tr>\n",
       "      <th>3</th>\n",
       "      <td>This Vine Of New York On \"Celebrity Big Brothe...</td>\n",
       "      <td>1</td>\n",
       "    </tr>\n",
       "    <tr>\n",
       "      <th>4</th>\n",
       "      <td>A Couple Did A Stunning Photo Shoot With Their...</td>\n",
       "      <td>1</td>\n",
       "    </tr>\n",
       "  </tbody>\n",
       "</table>\n",
       "</div>"
      ],
      "text/plain": [
       "                                            headline  clickbait\n",
       "0                                 Should I Get Bings          1\n",
       "1      Which TV Female Friend Group Do You Belong In          1\n",
       "2  The New \"Star Wars: The Force Awakens\" Trailer...          1\n",
       "3  This Vine Of New York On \"Celebrity Big Brothe...          1\n",
       "4  A Couple Did A Stunning Photo Shoot With Their...          1"
      ]
     },
     "execution_count": 7,
     "metadata": {
      "tags": []
     },
     "output_type": "execute_result"
    }
   ],
   "source": [
    "data.head()"
   ]
  },
  {
   "cell_type": "code",
   "execution_count": null,
   "metadata": {
    "colab": {
     "base_uri": "https://localhost:8080/"
    },
    "id": "YN5lgHVCsZFY",
    "outputId": "986cdcab-b6d5-43d9-dd18-86bfbd732db4"
   },
   "outputs": [
    {
     "name": "stdout",
     "output_type": "stream",
     "text": [
      "<class 'pandas.core.frame.DataFrame'>\n",
      "RangeIndex: 32000 entries, 0 to 31999\n",
      "Data columns (total 2 columns):\n",
      " #   Column     Non-Null Count  Dtype \n",
      "---  ------     --------------  ----- \n",
      " 0   headline   32000 non-null  object\n",
      " 1   clickbait  32000 non-null  int64 \n",
      "dtypes: int64(1), object(1)\n",
      "memory usage: 500.1+ KB\n"
     ]
    }
   ],
   "source": [
    "data.info()"
   ]
  },
  {
   "cell_type": "code",
   "execution_count": null,
   "metadata": {
    "colab": {
     "base_uri": "https://localhost:8080/"
    },
    "id": "IVo5-g19scfY",
    "outputId": "b7999c91-dab5-47d2-e3c9-3201a7c9a214"
   },
   "outputs": [
    {
     "data": {
      "text/plain": [
       "0    16001\n",
       "1    15999\n",
       "Name: clickbait, dtype: int64"
      ]
     },
     "execution_count": 9,
     "metadata": {
      "tags": []
     },
     "output_type": "execute_result"
    }
   ],
   "source": [
    "data['clickbait'].value_counts()"
   ]
  },
  {
   "cell_type": "markdown",
   "metadata": {
    "id": "qUNQV24ysm0q"
   },
   "source": [
    "### Data Preprocessing"
   ]
  },
  {
   "cell_type": "code",
   "execution_count": null,
   "metadata": {
    "id": "BPOiF8nRsjEH"
   },
   "outputs": [],
   "source": [
    "# Writing Function to remove the mentions  URL's  and String with @\n",
    "def removeURL(text):\n",
    "    tweet_out = re.sub(r'@[A-Za-z0-9]+','',str(text))\n",
    "    re.sub('https?://[A-zA-z0-9]+','',str(text))\n",
    "    return tweet_out\n",
    "\n",
    "# Writing function to remove the non-numeric characters\n",
    "def removeNonAlphanumeric(text):\n",
    "    text_out = \"\".join([char for char in text if char not in string.punctuation])\n",
    "    return text_out"
   ]
  },
  {
   "cell_type": "code",
   "execution_count": null,
   "metadata": {
    "id": "clwUmRM0trBy"
   },
   "outputs": [],
   "source": [
    "data[\"NoURL\"] = data[\"headline\"].apply(lambda x:removeURL(x))\n",
    "data[\"NoPun\"] = data[\"headline\"].apply(lambda x:removeNonAlphanumeric(x))"
   ]
  },
  {
   "cell_type": "code",
   "execution_count": null,
   "metadata": {
    "colab": {
     "base_uri": "https://localhost:8080/",
     "height": 195
    },
    "id": "1v8t23LDt_YY",
    "outputId": "81cfc8bd-a891-40b5-9c3d-ae554236774a"
   },
   "outputs": [
    {
     "data": {
      "text/html": [
       "<div>\n",
       "<style scoped>\n",
       "    .dataframe tbody tr th:only-of-type {\n",
       "        vertical-align: middle;\n",
       "    }\n",
       "\n",
       "    .dataframe tbody tr th {\n",
       "        vertical-align: top;\n",
       "    }\n",
       "\n",
       "    .dataframe thead th {\n",
       "        text-align: right;\n",
       "    }\n",
       "</style>\n",
       "<table border=\"1\" class=\"dataframe\">\n",
       "  <thead>\n",
       "    <tr style=\"text-align: right;\">\n",
       "      <th></th>\n",
       "      <th>headline</th>\n",
       "      <th>clickbait</th>\n",
       "      <th>NoURL</th>\n",
       "      <th>NoPun</th>\n",
       "    </tr>\n",
       "  </thead>\n",
       "  <tbody>\n",
       "    <tr>\n",
       "      <th>0</th>\n",
       "      <td>Should I Get Bings</td>\n",
       "      <td>1</td>\n",
       "      <td>Should I Get Bings</td>\n",
       "      <td>Should I Get Bings</td>\n",
       "    </tr>\n",
       "    <tr>\n",
       "      <th>1</th>\n",
       "      <td>Which TV Female Friend Group Do You Belong In</td>\n",
       "      <td>1</td>\n",
       "      <td>Which TV Female Friend Group Do You Belong In</td>\n",
       "      <td>Which TV Female Friend Group Do You Belong In</td>\n",
       "    </tr>\n",
       "    <tr>\n",
       "      <th>2</th>\n",
       "      <td>The New \"Star Wars: The Force Awakens\" Trailer...</td>\n",
       "      <td>1</td>\n",
       "      <td>The New \"Star Wars: The Force Awakens\" Trailer...</td>\n",
       "      <td>The New Star Wars The Force Awakens Trailer Is...</td>\n",
       "    </tr>\n",
       "    <tr>\n",
       "      <th>3</th>\n",
       "      <td>This Vine Of New York On \"Celebrity Big Brothe...</td>\n",
       "      <td>1</td>\n",
       "      <td>This Vine Of New York On \"Celebrity Big Brothe...</td>\n",
       "      <td>This Vine Of New York On Celebrity Big Brother...</td>\n",
       "    </tr>\n",
       "    <tr>\n",
       "      <th>4</th>\n",
       "      <td>A Couple Did A Stunning Photo Shoot With Their...</td>\n",
       "      <td>1</td>\n",
       "      <td>A Couple Did A Stunning Photo Shoot With Their...</td>\n",
       "      <td>A Couple Did A Stunning Photo Shoot With Their...</td>\n",
       "    </tr>\n",
       "  </tbody>\n",
       "</table>\n",
       "</div>"
      ],
      "text/plain": [
       "                                            headline  ...                                              NoPun\n",
       "0                                 Should I Get Bings  ...                                 Should I Get Bings\n",
       "1      Which TV Female Friend Group Do You Belong In  ...      Which TV Female Friend Group Do You Belong In\n",
       "2  The New \"Star Wars: The Force Awakens\" Trailer...  ...  The New Star Wars The Force Awakens Trailer Is...\n",
       "3  This Vine Of New York On \"Celebrity Big Brothe...  ...  This Vine Of New York On Celebrity Big Brother...\n",
       "4  A Couple Did A Stunning Photo Shoot With Their...  ...  A Couple Did A Stunning Photo Shoot With Their...\n",
       "\n",
       "[5 rows x 4 columns]"
      ]
     },
     "execution_count": 12,
     "metadata": {
      "tags": []
     },
     "output_type": "execute_result"
    }
   ],
   "source": [
    "  data.head()"
   ]
  },
  {
   "cell_type": "markdown",
   "metadata": {
    "id": "3FYXasIMv3J8"
   },
   "source": [
    "#### Tokenization"
   ]
  },
  {
   "cell_type": "code",
   "execution_count": null,
   "metadata": {
    "id": "8nkQ7UguvBoR"
   },
   "outputs": [],
   "source": [
    "def tokenization(text):\n",
    "    token = re.split(\"\\W+\",text)\n",
    "    return token\n",
    "\n",
    "data['Tokens'] = data['NoPun'].apply(lambda x:tokenization(x))"
   ]
  },
  {
   "cell_type": "code",
   "execution_count": null,
   "metadata": {
    "colab": {
     "base_uri": "https://localhost:8080/",
     "height": 410
    },
    "id": "XBi1jVtJwGxD",
    "outputId": "4bea23ff-d965-4ffe-f7eb-db1d747bbe88"
   },
   "outputs": [
    {
     "data": {
      "text/html": [
       "<div>\n",
       "<style scoped>\n",
       "    .dataframe tbody tr th:only-of-type {\n",
       "        vertical-align: middle;\n",
       "    }\n",
       "\n",
       "    .dataframe tbody tr th {\n",
       "        vertical-align: top;\n",
       "    }\n",
       "\n",
       "    .dataframe thead th {\n",
       "        text-align: right;\n",
       "    }\n",
       "</style>\n",
       "<table border=\"1\" class=\"dataframe\">\n",
       "  <thead>\n",
       "    <tr style=\"text-align: right;\">\n",
       "      <th></th>\n",
       "      <th>headline</th>\n",
       "      <th>clickbait</th>\n",
       "      <th>NoURL</th>\n",
       "      <th>NoPun</th>\n",
       "      <th>Tokens</th>\n",
       "    </tr>\n",
       "  </thead>\n",
       "  <tbody>\n",
       "    <tr>\n",
       "      <th>0</th>\n",
       "      <td>Should I Get Bings</td>\n",
       "      <td>1</td>\n",
       "      <td>Should I Get Bings</td>\n",
       "      <td>Should I Get Bings</td>\n",
       "      <td>[Should, I, Get, Bings]</td>\n",
       "    </tr>\n",
       "    <tr>\n",
       "      <th>1</th>\n",
       "      <td>Which TV Female Friend Group Do You Belong In</td>\n",
       "      <td>1</td>\n",
       "      <td>Which TV Female Friend Group Do You Belong In</td>\n",
       "      <td>Which TV Female Friend Group Do You Belong In</td>\n",
       "      <td>[Which, TV, Female, Friend, Group, Do, You, Be...</td>\n",
       "    </tr>\n",
       "    <tr>\n",
       "      <th>2</th>\n",
       "      <td>The New \"Star Wars: The Force Awakens\" Trailer...</td>\n",
       "      <td>1</td>\n",
       "      <td>The New \"Star Wars: The Force Awakens\" Trailer...</td>\n",
       "      <td>The New Star Wars The Force Awakens Trailer Is...</td>\n",
       "      <td>[The, New, Star, Wars, The, Force, Awakens, Tr...</td>\n",
       "    </tr>\n",
       "    <tr>\n",
       "      <th>3</th>\n",
       "      <td>This Vine Of New York On \"Celebrity Big Brothe...</td>\n",
       "      <td>1</td>\n",
       "      <td>This Vine Of New York On \"Celebrity Big Brothe...</td>\n",
       "      <td>This Vine Of New York On Celebrity Big Brother...</td>\n",
       "      <td>[This, Vine, Of, New, York, On, Celebrity, Big...</td>\n",
       "    </tr>\n",
       "    <tr>\n",
       "      <th>4</th>\n",
       "      <td>A Couple Did A Stunning Photo Shoot With Their...</td>\n",
       "      <td>1</td>\n",
       "      <td>A Couple Did A Stunning Photo Shoot With Their...</td>\n",
       "      <td>A Couple Did A Stunning Photo Shoot With Their...</td>\n",
       "      <td>[A, Couple, Did, A, Stunning, Photo, Shoot, Wi...</td>\n",
       "    </tr>\n",
       "    <tr>\n",
       "      <th>5</th>\n",
       "      <td>How To Flirt With Queer Girls Without Making A...</td>\n",
       "      <td>1</td>\n",
       "      <td>How To Flirt With Queer Girls Without Making A...</td>\n",
       "      <td>How To Flirt With Queer Girls Without Making A...</td>\n",
       "      <td>[How, To, Flirt, With, Queer, Girls, Without, ...</td>\n",
       "    </tr>\n",
       "    <tr>\n",
       "      <th>6</th>\n",
       "      <td>32 Cute Things To Distract From Your Awkward T...</td>\n",
       "      <td>1</td>\n",
       "      <td>32 Cute Things To Distract From Your Awkward T...</td>\n",
       "      <td>32 Cute Things To Distract From Your Awkward T...</td>\n",
       "      <td>[32, Cute, Things, To, Distract, From, Your, A...</td>\n",
       "    </tr>\n",
       "    <tr>\n",
       "      <th>7</th>\n",
       "      <td>If Disney Princesses Were From Florida</td>\n",
       "      <td>1</td>\n",
       "      <td>If Disney Princesses Were From Florida</td>\n",
       "      <td>If Disney Princesses Were From Florida</td>\n",
       "      <td>[If, Disney, Princesses, Were, From, Florida]</td>\n",
       "    </tr>\n",
       "    <tr>\n",
       "      <th>8</th>\n",
       "      <td>What's A Quote Or Lyric That Best Describes Yo...</td>\n",
       "      <td>1</td>\n",
       "      <td>What's A Quote Or Lyric That Best Describes Yo...</td>\n",
       "      <td>Whats A Quote Or Lyric That Best Describes You...</td>\n",
       "      <td>[Whats, A, Quote, Or, Lyric, That, Best, Descr...</td>\n",
       "    </tr>\n",
       "    <tr>\n",
       "      <th>9</th>\n",
       "      <td>Natalie Dormer And Sam Claflin Play A Game To ...</td>\n",
       "      <td>1</td>\n",
       "      <td>Natalie Dormer And Sam Claflin Play A Game To ...</td>\n",
       "      <td>Natalie Dormer And Sam Claflin Play A Game To ...</td>\n",
       "      <td>[Natalie, Dormer, And, Sam, Claflin, Play, A, ...</td>\n",
       "    </tr>\n",
       "  </tbody>\n",
       "</table>\n",
       "</div>"
      ],
      "text/plain": [
       "                                            headline  ...                                             Tokens\n",
       "0                                 Should I Get Bings  ...                            [Should, I, Get, Bings]\n",
       "1      Which TV Female Friend Group Do You Belong In  ...  [Which, TV, Female, Friend, Group, Do, You, Be...\n",
       "2  The New \"Star Wars: The Force Awakens\" Trailer...  ...  [The, New, Star, Wars, The, Force, Awakens, Tr...\n",
       "3  This Vine Of New York On \"Celebrity Big Brothe...  ...  [This, Vine, Of, New, York, On, Celebrity, Big...\n",
       "4  A Couple Did A Stunning Photo Shoot With Their...  ...  [A, Couple, Did, A, Stunning, Photo, Shoot, Wi...\n",
       "5  How To Flirt With Queer Girls Without Making A...  ...  [How, To, Flirt, With, Queer, Girls, Without, ...\n",
       "6  32 Cute Things To Distract From Your Awkward T...  ...  [32, Cute, Things, To, Distract, From, Your, A...\n",
       "7             If Disney Princesses Were From Florida  ...      [If, Disney, Princesses, Were, From, Florida]\n",
       "8  What's A Quote Or Lyric That Best Describes Yo...  ...  [Whats, A, Quote, Or, Lyric, That, Best, Descr...\n",
       "9  Natalie Dormer And Sam Claflin Play A Game To ...  ...  [Natalie, Dormer, And, Sam, Claflin, Play, A, ...\n",
       "\n",
       "[10 rows x 5 columns]"
      ]
     },
     "execution_count": 14,
     "metadata": {
      "tags": []
     },
     "output_type": "execute_result"
    }
   ],
   "source": [
    "data.head(10)"
   ]
  },
  {
   "cell_type": "markdown",
   "metadata": {
    "id": "VP2DtLuowMjn"
   },
   "source": [
    "#### Stemming"
   ]
  },
  {
   "cell_type": "code",
   "execution_count": null,
   "metadata": {
    "id": "hcotCyngwIQn"
   },
   "outputs": [],
   "source": [
    "ps = nltk.PorterStemmer()\n",
    "\n",
    "def stemming(text):\n",
    "    out_text = [ps.stem(word) for word in text]\n",
    "    return out_text\n",
    "\n",
    "data['Stem'] = data['Tokens'].apply(lambda x:stemming(x))"
   ]
  },
  {
   "cell_type": "code",
   "execution_count": null,
   "metadata": {
    "colab": {
     "base_uri": "https://localhost:8080/",
     "height": 262
    },
    "id": "RUdLcSiiwjwJ",
    "outputId": "70b46273-adfc-4b34-d241-84d86c8bcfc8"
   },
   "outputs": [
    {
     "data": {
      "text/html": [
       "<div>\n",
       "<style scoped>\n",
       "    .dataframe tbody tr th:only-of-type {\n",
       "        vertical-align: middle;\n",
       "    }\n",
       "\n",
       "    .dataframe tbody tr th {\n",
       "        vertical-align: top;\n",
       "    }\n",
       "\n",
       "    .dataframe thead th {\n",
       "        text-align: right;\n",
       "    }\n",
       "</style>\n",
       "<table border=\"1\" class=\"dataframe\">\n",
       "  <thead>\n",
       "    <tr style=\"text-align: right;\">\n",
       "      <th></th>\n",
       "      <th>headline</th>\n",
       "      <th>clickbait</th>\n",
       "      <th>NoURL</th>\n",
       "      <th>NoPun</th>\n",
       "      <th>Tokens</th>\n",
       "      <th>Stem</th>\n",
       "    </tr>\n",
       "  </thead>\n",
       "  <tbody>\n",
       "    <tr>\n",
       "      <th>0</th>\n",
       "      <td>Should I Get Bings</td>\n",
       "      <td>1</td>\n",
       "      <td>Should I Get Bings</td>\n",
       "      <td>Should I Get Bings</td>\n",
       "      <td>[Should, I, Get, Bings]</td>\n",
       "      <td>[should, I, get, bing]</td>\n",
       "    </tr>\n",
       "    <tr>\n",
       "      <th>1</th>\n",
       "      <td>Which TV Female Friend Group Do You Belong In</td>\n",
       "      <td>1</td>\n",
       "      <td>Which TV Female Friend Group Do You Belong In</td>\n",
       "      <td>Which TV Female Friend Group Do You Belong In</td>\n",
       "      <td>[Which, TV, Female, Friend, Group, Do, You, Be...</td>\n",
       "      <td>[which, TV, femal, friend, group, Do, you, bel...</td>\n",
       "    </tr>\n",
       "    <tr>\n",
       "      <th>2</th>\n",
       "      <td>The New \"Star Wars: The Force Awakens\" Trailer...</td>\n",
       "      <td>1</td>\n",
       "      <td>The New \"Star Wars: The Force Awakens\" Trailer...</td>\n",
       "      <td>The New Star Wars The Force Awakens Trailer Is...</td>\n",
       "      <td>[The, New, Star, Wars, The, Force, Awakens, Tr...</td>\n",
       "      <td>[the, new, star, war, the, forc, awaken, trail...</td>\n",
       "    </tr>\n",
       "    <tr>\n",
       "      <th>3</th>\n",
       "      <td>This Vine Of New York On \"Celebrity Big Brothe...</td>\n",
       "      <td>1</td>\n",
       "      <td>This Vine Of New York On \"Celebrity Big Brothe...</td>\n",
       "      <td>This Vine Of New York On Celebrity Big Brother...</td>\n",
       "      <td>[This, Vine, Of, New, York, On, Celebrity, Big...</td>\n",
       "      <td>[thi, vine, Of, new, york, On, celebr, big, br...</td>\n",
       "    </tr>\n",
       "    <tr>\n",
       "      <th>4</th>\n",
       "      <td>A Couple Did A Stunning Photo Shoot With Their...</td>\n",
       "      <td>1</td>\n",
       "      <td>A Couple Did A Stunning Photo Shoot With Their...</td>\n",
       "      <td>A Couple Did A Stunning Photo Shoot With Their...</td>\n",
       "      <td>[A, Couple, Did, A, Stunning, Photo, Shoot, Wi...</td>\n",
       "      <td>[A, coupl, did, A, stun, photo, shoot, with, t...</td>\n",
       "    </tr>\n",
       "  </tbody>\n",
       "</table>\n",
       "</div>"
      ],
      "text/plain": [
       "                                            headline  ...                                               Stem\n",
       "0                                 Should I Get Bings  ...                             [should, I, get, bing]\n",
       "1      Which TV Female Friend Group Do You Belong In  ...  [which, TV, femal, friend, group, Do, you, bel...\n",
       "2  The New \"Star Wars: The Force Awakens\" Trailer...  ...  [the, new, star, war, the, forc, awaken, trail...\n",
       "3  This Vine Of New York On \"Celebrity Big Brothe...  ...  [thi, vine, Of, new, york, On, celebr, big, br...\n",
       "4  A Couple Did A Stunning Photo Shoot With Their...  ...  [A, coupl, did, A, stun, photo, shoot, with, t...\n",
       "\n",
       "[5 rows x 6 columns]"
      ]
     },
     "execution_count": 16,
     "metadata": {
      "tags": []
     },
     "output_type": "execute_result"
    }
   ],
   "source": [
    "data.head()"
   ]
  },
  {
   "cell_type": "markdown",
   "metadata": {
    "id": "LJ-J0PMxwnev"
   },
   "source": [
    "#### Lemmatization"
   ]
  },
  {
   "cell_type": "code",
   "execution_count": null,
   "metadata": {
    "colab": {
     "base_uri": "https://localhost:8080/"
    },
    "id": "t3cQGOqUxFO2",
    "outputId": "d345ad4f-551b-4b1f-bbbc-a1012f3f56eb"
   },
   "outputs": [
    {
     "name": "stdout",
     "output_type": "stream",
     "text": [
      "[nltk_data] Downloading package wordnet to /root/nltk_data...\n",
      "[nltk_data]   Unzipping corpora/wordnet.zip.\n"
     ]
    },
    {
     "data": {
      "text/plain": [
       "True"
      ]
     },
     "execution_count": 17,
     "metadata": {
      "tags": []
     },
     "output_type": "execute_result"
    }
   ],
   "source": [
    "import nltk\n",
    "nltk.download('wordnet')"
   ]
  },
  {
   "cell_type": "code",
   "execution_count": null,
   "metadata": {
    "id": "OuDK4-kvwlvC"
   },
   "outputs": [],
   "source": [
    "wn = nltk.WordNetLemmatizer()\n",
    "\n",
    "def lemmatize(text):\n",
    "    out_text = [wn.lemmatize(word) for word in text]\n",
    "    return out_text\n",
    "\n",
    "data['Lem'] = data['Tokens'].apply(lambda x:lemmatize(x))"
   ]
  },
  {
   "cell_type": "code",
   "execution_count": null,
   "metadata": {
    "colab": {
     "base_uri": "https://localhost:8080/",
     "height": 262
    },
    "id": "Y6iYF-A5w9yq",
    "outputId": "798505e6-5ee1-48ac-f743-2ac2333634c1"
   },
   "outputs": [
    {
     "data": {
      "text/html": [
       "<div>\n",
       "<style scoped>\n",
       "    .dataframe tbody tr th:only-of-type {\n",
       "        vertical-align: middle;\n",
       "    }\n",
       "\n",
       "    .dataframe tbody tr th {\n",
       "        vertical-align: top;\n",
       "    }\n",
       "\n",
       "    .dataframe thead th {\n",
       "        text-align: right;\n",
       "    }\n",
       "</style>\n",
       "<table border=\"1\" class=\"dataframe\">\n",
       "  <thead>\n",
       "    <tr style=\"text-align: right;\">\n",
       "      <th></th>\n",
       "      <th>headline</th>\n",
       "      <th>clickbait</th>\n",
       "      <th>NoURL</th>\n",
       "      <th>NoPun</th>\n",
       "      <th>Tokens</th>\n",
       "      <th>Stem</th>\n",
       "      <th>Lem</th>\n",
       "    </tr>\n",
       "  </thead>\n",
       "  <tbody>\n",
       "    <tr>\n",
       "      <th>0</th>\n",
       "      <td>Should I Get Bings</td>\n",
       "      <td>1</td>\n",
       "      <td>Should I Get Bings</td>\n",
       "      <td>Should I Get Bings</td>\n",
       "      <td>[Should, I, Get, Bings]</td>\n",
       "      <td>[should, I, get, bing]</td>\n",
       "      <td>[Should, I, Get, Bings]</td>\n",
       "    </tr>\n",
       "    <tr>\n",
       "      <th>1</th>\n",
       "      <td>Which TV Female Friend Group Do You Belong In</td>\n",
       "      <td>1</td>\n",
       "      <td>Which TV Female Friend Group Do You Belong In</td>\n",
       "      <td>Which TV Female Friend Group Do You Belong In</td>\n",
       "      <td>[Which, TV, Female, Friend, Group, Do, You, Be...</td>\n",
       "      <td>[which, TV, femal, friend, group, Do, you, bel...</td>\n",
       "      <td>[Which, TV, Female, Friend, Group, Do, You, Be...</td>\n",
       "    </tr>\n",
       "    <tr>\n",
       "      <th>2</th>\n",
       "      <td>The New \"Star Wars: The Force Awakens\" Trailer...</td>\n",
       "      <td>1</td>\n",
       "      <td>The New \"Star Wars: The Force Awakens\" Trailer...</td>\n",
       "      <td>The New Star Wars The Force Awakens Trailer Is...</td>\n",
       "      <td>[The, New, Star, Wars, The, Force, Awakens, Tr...</td>\n",
       "      <td>[the, new, star, war, the, forc, awaken, trail...</td>\n",
       "      <td>[The, New, Star, Wars, The, Force, Awakens, Tr...</td>\n",
       "    </tr>\n",
       "    <tr>\n",
       "      <th>3</th>\n",
       "      <td>This Vine Of New York On \"Celebrity Big Brothe...</td>\n",
       "      <td>1</td>\n",
       "      <td>This Vine Of New York On \"Celebrity Big Brothe...</td>\n",
       "      <td>This Vine Of New York On Celebrity Big Brother...</td>\n",
       "      <td>[This, Vine, Of, New, York, On, Celebrity, Big...</td>\n",
       "      <td>[thi, vine, Of, new, york, On, celebr, big, br...</td>\n",
       "      <td>[This, Vine, Of, New, York, On, Celebrity, Big...</td>\n",
       "    </tr>\n",
       "    <tr>\n",
       "      <th>4</th>\n",
       "      <td>A Couple Did A Stunning Photo Shoot With Their...</td>\n",
       "      <td>1</td>\n",
       "      <td>A Couple Did A Stunning Photo Shoot With Their...</td>\n",
       "      <td>A Couple Did A Stunning Photo Shoot With Their...</td>\n",
       "      <td>[A, Couple, Did, A, Stunning, Photo, Shoot, Wi...</td>\n",
       "      <td>[A, coupl, did, A, stun, photo, shoot, with, t...</td>\n",
       "      <td>[A, Couple, Did, A, Stunning, Photo, Shoot, Wi...</td>\n",
       "    </tr>\n",
       "  </tbody>\n",
       "</table>\n",
       "</div>"
      ],
      "text/plain": [
       "                                            headline  ...                                                Lem\n",
       "0                                 Should I Get Bings  ...                            [Should, I, Get, Bings]\n",
       "1      Which TV Female Friend Group Do You Belong In  ...  [Which, TV, Female, Friend, Group, Do, You, Be...\n",
       "2  The New \"Star Wars: The Force Awakens\" Trailer...  ...  [The, New, Star, Wars, The, Force, Awakens, Tr...\n",
       "3  This Vine Of New York On \"Celebrity Big Brothe...  ...  [This, Vine, Of, New, York, On, Celebrity, Big...\n",
       "4  A Couple Did A Stunning Photo Shoot With Their...  ...  [A, Couple, Did, A, Stunning, Photo, Shoot, Wi...\n",
       "\n",
       "[5 rows x 7 columns]"
      ]
     },
     "execution_count": 19,
     "metadata": {
      "tags": []
     },
     "output_type": "execute_result"
    }
   ],
   "source": [
    "data.head()"
   ]
  },
  {
   "cell_type": "markdown",
   "metadata": {
    "id": "oH1u6gLnxXeX"
   },
   "source": [
    "#### Stop Words"
   ]
  },
  {
   "cell_type": "code",
   "execution_count": null,
   "metadata": {
    "colab": {
     "base_uri": "https://localhost:8080/"
    },
    "id": "mRtb28UXxMPt",
    "outputId": "f1363af5-9047-4571-8a15-1f986301e243"
   },
   "outputs": [
    {
     "name": "stdout",
     "output_type": "stream",
     "text": [
      "[nltk_data] Downloading package stopwords to /root/nltk_data...\n",
      "[nltk_data]   Unzipping corpora/stopwords.zip.\n"
     ]
    }
   ],
   "source": [
    "nltk.download('stopwords')\n",
    "stopwords = nltk.corpus.stopwords.words('english')"
   ]
  },
  {
   "cell_type": "code",
   "execution_count": null,
   "metadata": {
    "id": "3kVz9thrxbO0"
   },
   "outputs": [],
   "source": [
    "def remove_stopwords(token_list):\n",
    "    text_out = [word for word in token_list if word not in stopwords]\n",
    "    return text_out\n",
    "\n",
    "data['StopWordsRemoval'] = data['Lem'].apply(lambda x:remove_stopwords(x))"
   ]
  },
  {
   "cell_type": "code",
   "execution_count": null,
   "metadata": {
    "id": "mpVbF9ql0son"
   },
   "outputs": [],
   "source": [
    "def final_join(token):\n",
    "    document = \" \".join([word for word in token if not word.isdigit()])\n",
    "    return document\n",
    "\n",
    "data['FinalJoin'] = data['StopWordsRemoval'].apply(lambda x:final_join(x))"
   ]
  },
  {
   "cell_type": "code",
   "execution_count": null,
   "metadata": {
    "colab": {
     "base_uri": "https://localhost:8080/",
     "height": 330
    },
    "id": "rNkXyYIf1JPi",
    "outputId": "f7d37fbf-05f5-4585-904e-751fdb66d174"
   },
   "outputs": [
    {
     "data": {
      "text/html": [
       "<div>\n",
       "<style scoped>\n",
       "    .dataframe tbody tr th:only-of-type {\n",
       "        vertical-align: middle;\n",
       "    }\n",
       "\n",
       "    .dataframe tbody tr th {\n",
       "        vertical-align: top;\n",
       "    }\n",
       "\n",
       "    .dataframe thead th {\n",
       "        text-align: right;\n",
       "    }\n",
       "</style>\n",
       "<table border=\"1\" class=\"dataframe\">\n",
       "  <thead>\n",
       "    <tr style=\"text-align: right;\">\n",
       "      <th></th>\n",
       "      <th>headline</th>\n",
       "      <th>clickbait</th>\n",
       "      <th>NoURL</th>\n",
       "      <th>NoPun</th>\n",
       "      <th>Tokens</th>\n",
       "      <th>Stem</th>\n",
       "      <th>Lem</th>\n",
       "      <th>StopWordsRemoval</th>\n",
       "      <th>FinalJoin</th>\n",
       "    </tr>\n",
       "  </thead>\n",
       "  <tbody>\n",
       "    <tr>\n",
       "      <th>0</th>\n",
       "      <td>Should I Get Bings</td>\n",
       "      <td>1</td>\n",
       "      <td>Should I Get Bings</td>\n",
       "      <td>Should I Get Bings</td>\n",
       "      <td>[Should, I, Get, Bings]</td>\n",
       "      <td>[should, I, get, bing]</td>\n",
       "      <td>[Should, I, Get, Bings]</td>\n",
       "      <td>[Should, I, Get, Bings]</td>\n",
       "      <td>Should I Get Bings</td>\n",
       "    </tr>\n",
       "    <tr>\n",
       "      <th>1</th>\n",
       "      <td>Which TV Female Friend Group Do You Belong In</td>\n",
       "      <td>1</td>\n",
       "      <td>Which TV Female Friend Group Do You Belong In</td>\n",
       "      <td>Which TV Female Friend Group Do You Belong In</td>\n",
       "      <td>[Which, TV, Female, Friend, Group, Do, You, Be...</td>\n",
       "      <td>[which, TV, femal, friend, group, Do, you, bel...</td>\n",
       "      <td>[Which, TV, Female, Friend, Group, Do, You, Be...</td>\n",
       "      <td>[Which, TV, Female, Friend, Group, Do, You, Be...</td>\n",
       "      <td>Which TV Female Friend Group Do You Belong In</td>\n",
       "    </tr>\n",
       "    <tr>\n",
       "      <th>2</th>\n",
       "      <td>The New \"Star Wars: The Force Awakens\" Trailer...</td>\n",
       "      <td>1</td>\n",
       "      <td>The New \"Star Wars: The Force Awakens\" Trailer...</td>\n",
       "      <td>The New Star Wars The Force Awakens Trailer Is...</td>\n",
       "      <td>[The, New, Star, Wars, The, Force, Awakens, Tr...</td>\n",
       "      <td>[the, new, star, war, the, forc, awaken, trail...</td>\n",
       "      <td>[The, New, Star, Wars, The, Force, Awakens, Tr...</td>\n",
       "      <td>[The, New, Star, Wars, The, Force, Awakens, Tr...</td>\n",
       "      <td>The New Star Wars The Force Awakens Trailer Is...</td>\n",
       "    </tr>\n",
       "    <tr>\n",
       "      <th>3</th>\n",
       "      <td>This Vine Of New York On \"Celebrity Big Brothe...</td>\n",
       "      <td>1</td>\n",
       "      <td>This Vine Of New York On \"Celebrity Big Brothe...</td>\n",
       "      <td>This Vine Of New York On Celebrity Big Brother...</td>\n",
       "      <td>[This, Vine, Of, New, York, On, Celebrity, Big...</td>\n",
       "      <td>[thi, vine, Of, new, york, On, celebr, big, br...</td>\n",
       "      <td>[This, Vine, Of, New, York, On, Celebrity, Big...</td>\n",
       "      <td>[This, Vine, Of, New, York, On, Celebrity, Big...</td>\n",
       "      <td>This Vine Of New York On Celebrity Big Brother...</td>\n",
       "    </tr>\n",
       "    <tr>\n",
       "      <th>4</th>\n",
       "      <td>A Couple Did A Stunning Photo Shoot With Their...</td>\n",
       "      <td>1</td>\n",
       "      <td>A Couple Did A Stunning Photo Shoot With Their...</td>\n",
       "      <td>A Couple Did A Stunning Photo Shoot With Their...</td>\n",
       "      <td>[A, Couple, Did, A, Stunning, Photo, Shoot, Wi...</td>\n",
       "      <td>[A, coupl, did, A, stun, photo, shoot, with, t...</td>\n",
       "      <td>[A, Couple, Did, A, Stunning, Photo, Shoot, Wi...</td>\n",
       "      <td>[A, Couple, Did, A, Stunning, Photo, Shoot, Wi...</td>\n",
       "      <td>A Couple Did A Stunning Photo Shoot With Their...</td>\n",
       "    </tr>\n",
       "  </tbody>\n",
       "</table>\n",
       "</div>"
      ],
      "text/plain": [
       "                                            headline  ...                                          FinalJoin\n",
       "0                                 Should I Get Bings  ...                                 Should I Get Bings\n",
       "1      Which TV Female Friend Group Do You Belong In  ...      Which TV Female Friend Group Do You Belong In\n",
       "2  The New \"Star Wars: The Force Awakens\" Trailer...  ...  The New Star Wars The Force Awakens Trailer Is...\n",
       "3  This Vine Of New York On \"Celebrity Big Brothe...  ...  This Vine Of New York On Celebrity Big Brother...\n",
       "4  A Couple Did A Stunning Photo Shoot With Their...  ...  A Couple Did A Stunning Photo Shoot With Their...\n",
       "\n",
       "[5 rows x 9 columns]"
      ]
     },
     "execution_count": 23,
     "metadata": {
      "tags": []
     },
     "output_type": "execute_result"
    }
   ],
   "source": [
    "data.head()"
   ]
  },
  {
   "cell_type": "markdown",
   "metadata": {
    "id": "4Ulvr0AfyslV"
   },
   "source": [
    "#### Vectorization "
   ]
  },
  {
   "cell_type": "code",
   "execution_count": null,
   "metadata": {
    "id": "_XfSx8tKzNC5"
   },
   "outputs": [],
   "source": [
    "X = data[\"FinalJoin\"]\n",
    "y = data[\"clickbait\"]\n",
    "cv = TfidfVectorizer(min_df=1,stop_words='english')"
   ]
  },
  {
   "cell_type": "code",
   "execution_count": null,
   "metadata": {
    "id": "kZLFdZn1zdtg"
   },
   "outputs": [],
   "source": [
    "X_train, X_test, y_train, y_test = train_test_split(X,y,test_size=0.20,random_state=42)"
   ]
  },
  {
   "cell_type": "code",
   "execution_count": null,
   "metadata": {
    "colab": {
     "base_uri": "https://localhost:8080/"
    },
    "id": "fWZ-evSS0HVa",
    "outputId": "663c467d-6b29-47d8-9a39-bf2a5d3de62e"
   },
   "outputs": [
    {
     "data": {
      "text/plain": [
       "(25600, 6400, 25600, 6400)"
      ]
     },
     "execution_count": 26,
     "metadata": {
      "tags": []
     },
     "output_type": "execute_result"
    }
   ],
   "source": [
    "len(X_train), len(X_test), len(y_train), len(y_test)"
   ]
  },
  {
   "cell_type": "code",
   "execution_count": null,
   "metadata": {
    "id": "_2JM_8E50Iv9"
   },
   "outputs": [],
   "source": [
    "X_train = cv.fit_transform(X_train)\n",
    "X_test = cv.transform(X_test)"
   ]
  },
  {
   "cell_type": "markdown",
   "metadata": {
    "id": "S--xb3cQ1rBd"
   },
   "source": [
    "#### Logistic Regression\n",
    "\n",
    "References: https://towardsdatascience.com/understanding-logistic-regression-9b02c2aec102"
   ]
  },
  {
   "cell_type": "code",
   "execution_count": null,
   "metadata": {
    "id": "0wf8awyw0ZtO"
   },
   "outputs": [],
   "source": [
    "model = LogisticRegression()\n",
    "\n",
    "model.fit(X_train,y_train)\n",
    "\n",
    "y_pred = model.predict(X_test)"
   ]
  },
  {
   "cell_type": "code",
   "execution_count": null,
   "metadata": {
    "colab": {
     "base_uri": "https://localhost:8080/"
    },
    "id": "shgr1NoH16z8",
    "outputId": "7662016e-c1e9-4cf3-f60c-56cecc853336"
   },
   "outputs": [
    {
     "data": {
      "text/plain": [
       "0.951875"
      ]
     },
     "execution_count": 30,
     "metadata": {
      "tags": []
     },
     "output_type": "execute_result"
    }
   ],
   "source": [
    "# Accuracy Score\n",
    "model.score(X_test,y_test)"
   ]
  },
  {
   "cell_type": "code",
   "execution_count": null,
   "metadata": {
    "colab": {
     "base_uri": "https://localhost:8080/"
    },
    "id": "aZhmIRmhHWrV",
    "outputId": "4539d4d4-d625-41c1-a3b0-11e479b0c3fb"
   },
   "outputs": [
    {
     "name": "stdout",
     "output_type": "stream",
     "text": [
      "[1]\n"
     ]
    }
   ],
   "source": [
    "# Prediction \n",
    "value = \"Is your boyfriend cheating on you?\"\n",
    "input_vector = cv.transform([value])\n",
    "print(model.predict(input_vector))"
   ]
  },
  {
   "cell_type": "code",
   "execution_count": null,
   "metadata": {
    "colab": {
     "base_uri": "https://localhost:8080/"
    },
    "id": "qd1cTsxw1-4q",
    "outputId": "1f208a4d-2f36-40af-d3a8-dfd5807dfa96"
   },
   "outputs": [
    {
     "name": "stdout",
     "output_type": "stream",
     "text": [
      "              precision    recall  f1-score   support\n",
      "\n",
      "           0       0.93      0.97      0.95      3127\n",
      "           1       0.97      0.93      0.95      3273\n",
      "\n",
      "    accuracy                           0.95      6400\n",
      "   macro avg       0.95      0.95      0.95      6400\n",
      "weighted avg       0.95      0.95      0.95      6400\n",
      "\n"
     ]
    }
   ],
   "source": [
    "# Classification Report\n",
    "print(classification_report(y_test,y_pred))"
   ]
  },
  {
   "cell_type": "code",
   "execution_count": null,
   "metadata": {
    "colab": {
     "base_uri": "https://localhost:8080/"
    },
    "id": "nA22dKMU2jZl",
    "outputId": "ef9ae971-3308-4392-d030-6ef4ee82b0e6"
   },
   "outputs": [
    {
     "name": "stdout",
     "output_type": "stream",
     "text": [
      "[[3039   88]\n",
      " [ 220 3053]]\n"
     ]
    }
   ],
   "source": [
    "# Confusion Matrix\n",
    "print(confusion_matrix(y_test,y_pred))"
   ]
  },
  {
   "cell_type": "markdown",
   "metadata": {
    "id": "z0WxD9-r23p2"
   },
   "source": [
    "#### Random Forest\n",
    "\n",
    "Reference: https://towardsdatascience.com/understanding-random-forest-58381e0602d2 "
   ]
  },
  {
   "cell_type": "code",
   "execution_count": null,
   "metadata": {
    "id": "0LVoWX8S28u5"
   },
   "outputs": [],
   "source": [
    "model = RandomForestClassifier()\n",
    "\n",
    "model.fit(X_train,y_train)\n",
    "\n",
    "y_pred = model.predict(X_test)"
   ]
  },
  {
   "cell_type": "code",
   "execution_count": null,
   "metadata": {
    "colab": {
     "base_uri": "https://localhost:8080/"
    },
    "id": "S_5tyUhg3HBR",
    "outputId": "9d271ec7-7d73-4022-81a8-3d76cd61eb7f"
   },
   "outputs": [
    {
     "data": {
      "text/plain": [
       "0.9171875"
      ]
     },
     "execution_count": 35,
     "metadata": {
      "tags": []
     },
     "output_type": "execute_result"
    }
   ],
   "source": [
    "# Accurracy Score\n",
    "model.score(X_test,y_test)"
   ]
  },
  {
   "cell_type": "code",
   "execution_count": null,
   "metadata": {
    "colab": {
     "base_uri": "https://localhost:8080/"
    },
    "id": "lDVRbu80LO-q",
    "outputId": "47b2680d-6c4a-4f39-9eb3-1ce18015fa8c"
   },
   "outputs": [
    {
     "name": "stdout",
     "output_type": "stream",
     "text": [
      "[1]\n"
     ]
    }
   ],
   "source": [
    "# Predictions \n",
    "value = \"Is your boyfriend cheating on you?\"\n",
    "input_vector = cv.transform([value])\n",
    "print(model.predict(input_vector))"
   ]
  },
  {
   "cell_type": "code",
   "execution_count": null,
   "metadata": {
    "colab": {
     "base_uri": "https://localhost:8080/"
    },
    "id": "S12x58453UZc",
    "outputId": "3abacc00-bfa7-4476-ef8b-48b7af3115ab"
   },
   "outputs": [
    {
     "name": "stdout",
     "output_type": "stream",
     "text": [
      "              precision    recall  f1-score   support\n",
      "\n",
      "           0       0.95      0.88      0.91      3127\n",
      "           1       0.89      0.96      0.92      3273\n",
      "\n",
      "    accuracy                           0.92      6400\n",
      "   macro avg       0.92      0.92      0.92      6400\n",
      "weighted avg       0.92      0.92      0.92      6400\n",
      "\n"
     ]
    }
   ],
   "source": [
    "# Classification Report\n",
    "print(classification_report(y_test,y_pred))"
   ]
  },
  {
   "cell_type": "code",
   "execution_count": null,
   "metadata": {
    "colab": {
     "base_uri": "https://localhost:8080/"
    },
    "id": "9LmWj2ZM3XuV",
    "outputId": "a4a1b0b6-fbb9-4135-d5bc-c24d18398898"
   },
   "outputs": [
    {
     "name": "stdout",
     "output_type": "stream",
     "text": [
      "[[2744  383]\n",
      " [ 147 3126]]\n"
     ]
    }
   ],
   "source": [
    "# Confusion Matrix\n",
    "print(confusion_matrix(y_test,y_pred))"
   ]
  },
  {
   "cell_type": "markdown",
   "metadata": {
    "id": "iSK19kso3dLZ"
   },
   "source": [
    "#### Support Vector Machine\n",
    "\n",
    "Reference: https://www.analyticsvidhya.com/blog/2017/09/understaing-support-vector-machine-example-code/"
   ]
  },
  {
   "cell_type": "code",
   "execution_count": null,
   "metadata": {
    "id": "1aMNcLlF3bM8"
   },
   "outputs": [],
   "source": [
    "model = svm.SVC(kernel=\"linear\")\n",
    "\n",
    "model.fit(X_train,y_train)\n",
    "\n",
    "y_pred = model.predict(X_test)"
   ]
  },
  {
   "cell_type": "code",
   "execution_count": null,
   "metadata": {
    "colab": {
     "base_uri": "https://localhost:8080/"
    },
    "id": "tVnMs9eA37yt",
    "outputId": "294bcbaf-b745-4cd1-92b5-f40398852416"
   },
   "outputs": [
    {
     "data": {
      "text/plain": [
       "0.9578125"
      ]
     },
     "execution_count": 40,
     "metadata": {
      "tags": []
     },
     "output_type": "execute_result"
    }
   ],
   "source": [
    "# Accurracy Score\n",
    "model.score(X_test,y_test)"
   ]
  },
  {
   "cell_type": "code",
   "execution_count": null,
   "metadata": {
    "colab": {
     "base_uri": "https://localhost:8080/"
    },
    "id": "v75KV9KIL0iP",
    "outputId": "5067bc77-dfa5-4b44-d3bc-b2bd0a57b4c0"
   },
   "outputs": [
    {
     "name": "stdout",
     "output_type": "stream",
     "text": [
      "[1]\n"
     ]
    }
   ],
   "source": [
    "# Predictions \n",
    "value = \"Is your boyfriend cheating on you?\"\n",
    "input_vector = cv.transform([value])\n",
    "print(model.predict(input_vector))"
   ]
  },
  {
   "cell_type": "code",
   "execution_count": null,
   "metadata": {
    "colab": {
     "base_uri": "https://localhost:8080/"
    },
    "id": "3IPm50uT4MB9",
    "outputId": "6c165d47-85ad-4042-9a08-e24e9dbebb40"
   },
   "outputs": [
    {
     "name": "stdout",
     "output_type": "stream",
     "text": [
      "              precision    recall  f1-score   support\n",
      "\n",
      "           0       0.95      0.97      0.96      3127\n",
      "           1       0.97      0.95      0.96      3273\n",
      "\n",
      "    accuracy                           0.96      6400\n",
      "   macro avg       0.96      0.96      0.96      6400\n",
      "weighted avg       0.96      0.96      0.96      6400\n",
      "\n"
     ]
    }
   ],
   "source": [
    "# Classification Report\n",
    "print(classification_report(y_test,y_pred))"
   ]
  },
  {
   "cell_type": "code",
   "execution_count": null,
   "metadata": {
    "colab": {
     "base_uri": "https://localhost:8080/"
    },
    "id": "5GxmdVai4RgC",
    "outputId": "6cf41fd7-4020-4caf-8bbf-2bf58d8b99e6"
   },
   "outputs": [
    {
     "name": "stdout",
     "output_type": "stream",
     "text": [
      "[[3029   98]\n",
      " [ 172 3101]]\n"
     ]
    }
   ],
   "source": [
    "# Confusion Matrix\n",
    "print(confusion_matrix(y_test,y_pred))"
   ]
  },
  {
   "cell_type": "markdown",
   "metadata": {
    "id": "BBdz97nW4isD"
   },
   "source": [
    "#### Naive Bayes\n",
    "\n",
    "Reference: https://www.analyticsvidhya.com/blog/2017/09/naive-bayes-"
   ]
  },
  {
   "cell_type": "code",
   "execution_count": null,
   "metadata": {
    "id": "k1i3DwDe4Upb"
   },
   "outputs": [],
   "source": [
    "model = MultinomialNB()\n",
    "\n",
    "model.fit(X_train,y_train)\n",
    "\n",
    "y_pred = model.predict(X_test)"
   ]
  },
  {
   "cell_type": "code",
   "execution_count": null,
   "metadata": {
    "colab": {
     "base_uri": "https://localhost:8080/"
    },
    "id": "Vget44v_44Jp",
    "outputId": "9fa57a5d-fed4-48b0-e938-6ac2ddc5ef7a"
   },
   "outputs": [
    {
     "data": {
      "text/plain": [
       "0.96"
      ]
     },
     "execution_count": 45,
     "metadata": {
      "tags": []
     },
     "output_type": "execute_result"
    }
   ],
   "source": [
    "# Accurracy Score\n",
    "model.score(X_test,y_test)"
   ]
  },
  {
   "cell_type": "code",
   "execution_count": null,
   "metadata": {
    "colab": {
     "base_uri": "https://localhost:8080/"
    },
    "id": "xvxZIK6OMeUl",
    "outputId": "a31e10ab-ec9b-417e-86a7-ddc897360747"
   },
   "outputs": [
    {
     "name": "stdout",
     "output_type": "stream",
     "text": [
      "[1]\n"
     ]
    }
   ],
   "source": [
    "# Predictions \n",
    "value = \"Is your boyfriend cheating on you?\"\n",
    "input_vector = cv.transform([value])\n",
    "print(model.predict(input_vector))"
   ]
  },
  {
   "cell_type": "code",
   "execution_count": null,
   "metadata": {
    "colab": {
     "base_uri": "https://localhost:8080/"
    },
    "id": "w8D-Gctd46zF",
    "outputId": "07029c44-58e2-4052-963e-1a65571e9cce"
   },
   "outputs": [
    {
     "name": "stdout",
     "output_type": "stream",
     "text": [
      "              precision    recall  f1-score   support\n",
      "\n",
      "           0       0.96      0.95      0.96      3127\n",
      "           1       0.96      0.96      0.96      3273\n",
      "\n",
      "    accuracy                           0.96      6400\n",
      "   macro avg       0.96      0.96      0.96      6400\n",
      "weighted avg       0.96      0.96      0.96      6400\n",
      "\n"
     ]
    }
   ],
   "source": [
    "# Classification Report\n",
    "print(classification_report(y_test,y_pred))"
   ]
  },
  {
   "cell_type": "code",
   "execution_count": null,
   "metadata": {
    "colab": {
     "base_uri": "https://localhost:8080/"
    },
    "id": "Z9az8cp85FVT",
    "outputId": "3a04884b-3543-40e5-b533-a499fd19eefb"
   },
   "outputs": [
    {
     "name": "stdout",
     "output_type": "stream",
     "text": [
      "[[2986  141]\n",
      " [ 115 3158]]\n"
     ]
    }
   ],
   "source": [
    "# Confusion Matrix\n",
    "print(confusion_matrix(y_test,y_pred))"
   ]
  },
  {
   "cell_type": "markdown",
   "metadata": {
    "id": "Qao0kcYQ5MzE"
   },
   "source": [
    "#### Accuracy Report: Clickbait Classification\n",
    "\n",
    "1. Logistic Regression: 95.18% ~ 95%\n",
    "2. Random Forest Classifier: 91.89% ~ 92%\n",
    "3. Support Vector Machine: 95.78% ~ 96%\n",
    "4. Naive Bayes:  96.00% ~ 96%"
   ]
  }
 ],
 "metadata": {
  "colab": {
   "collapsed_sections": [],
   "name": "ClickBait_Classification_Machine_Learning.ipynb",
   "provenance": []
  },
  "kernelspec": {
   "display_name": "Python 3",
   "language": "python",
   "name": "python3"
  },
  "language_info": {
   "codemirror_mode": {
    "name": "ipython",
    "version": 3
   },
   "file_extension": ".py",
   "mimetype": "text/x-python",
   "name": "python",
   "nbconvert_exporter": "python",
   "pygments_lexer": "ipython3",
   "version": "3.7.6"
  }
 },
 "nbformat": 4,
 "nbformat_minor": 1
}
